{
 "cells": [
  {
   "cell_type": "code",
   "execution_count": 1,
   "metadata": {},
   "outputs": [],
   "source": [
    "import numpy as np"
   ]
  },
  {
   "cell_type": "markdown",
   "metadata": {},
   "source": [
    "### 연습문제 1\n",
    "NumPy를 사용하여 다음과 같은 행렬을 만든다.\n",
    "\n",
    "10 20 30 40  \n",
    "50 60 70 80  "
   ]
  },
  {
   "cell_type": "code",
   "execution_count": null,
   "metadata": {},
   "outputs": [],
   "source": []
  },
  {
   "cell_type": "markdown",
   "metadata": {},
   "source": [
    "### 연습문제 2\n",
    "다음 행렬과 같은 행렬이 있다."
   ]
  },
  {
   "cell_type": "code",
   "execution_count": 2,
   "metadata": {},
   "outputs": [],
   "source": [
    "m = np.array([[ 0,  1,  2,  3,  4],  \n",
    "              [ 5,  6,  7,  8,  9],  \n",
    "              [10, 11, 12, 13, 14]])"
   ]
  },
  {
   "cell_type": "markdown",
   "metadata": {},
   "source": [
    "1) 이 행렬에서 값 7 을 인덱싱한다."
   ]
  },
  {
   "cell_type": "code",
   "execution_count": null,
   "metadata": {},
   "outputs": [],
   "source": []
  },
  {
   "cell_type": "markdown",
   "metadata": {},
   "source": [
    "2) 이 행렬에서 값 14 을 인덱싱한다."
   ]
  },
  {
   "cell_type": "code",
   "execution_count": null,
   "metadata": {},
   "outputs": [],
   "source": []
  },
  {
   "cell_type": "markdown",
   "metadata": {},
   "source": [
    "3) 이 행렬에서 배열 [6, 7] 을 슬라이싱한다."
   ]
  },
  {
   "cell_type": "code",
   "execution_count": null,
   "metadata": {},
   "outputs": [],
   "source": []
  },
  {
   "cell_type": "markdown",
   "metadata": {},
   "source": [
    "4) 이 행렬에서 배열 [7, 12] 을 슬라이싱한다."
   ]
  },
  {
   "cell_type": "code",
   "execution_count": null,
   "metadata": {},
   "outputs": [],
   "source": []
  },
  {
   "cell_type": "markdown",
   "metadata": {},
   "source": [
    "5) 이 행렬에서 배열 [[3, 4], [8, 9]] 을 슬라이싱한다."
   ]
  },
  {
   "cell_type": "code",
   "execution_count": null,
   "metadata": {},
   "outputs": [],
   "source": []
  },
  {
   "cell_type": "markdown",
   "metadata": {},
   "source": [
    "### 연습문제 3\n",
    "다음 행렬과 같은 배열이 있다."
   ]
  },
  {
   "cell_type": "code",
   "execution_count": 4,
   "metadata": {},
   "outputs": [],
   "source": [
    "x = np.array([1, 2, 3, 4, 5, 6, 7, 8, 9, 10,\n",
    "              11, 12, 13, 14, 15, 16, 17, 18, 19, 20])"
   ]
  },
  {
   "cell_type": "markdown",
   "metadata": {},
   "source": [
    "1) 이 배열에서 3의 배수를 찾아라."
   ]
  },
  {
   "cell_type": "code",
   "execution_count": null,
   "metadata": {},
   "outputs": [],
   "source": []
  },
  {
   "cell_type": "markdown",
   "metadata": {},
   "source": [
    "2) 이 배열에서 4로 나누면 1이 남는 수를 찾아라."
   ]
  },
  {
   "cell_type": "code",
   "execution_count": null,
   "metadata": {},
   "outputs": [],
   "source": []
  },
  {
   "cell_type": "markdown",
   "metadata": {},
   "source": [
    "3) 이 배열에서 3으로 나누면 나누어지고 4로 나누면 1이 남는 수를 찾아라."
   ]
  },
  {
   "cell_type": "code",
   "execution_count": null,
   "metadata": {},
   "outputs": [],
   "source": []
  },
  {
   "cell_type": "markdown",
   "metadata": {},
   "source": [
    "### 연습문제 4\n",
    "지금까지 공부한 명령어를 사용하여 다음과 같은 배열을 만들어라.\n",
    "\n",
    "array([  \n",
    "[   0.,    0.,    0.,    1.,    1.],  \n",
    "       [   0.,    0.,    0.,    1.,    1.],  \n",
    "       [   0.,    0.,    0.,    1.,    1.],  \n",
    "       [  10.,   20.,   30.,   40.,   50.],  \n",
    "       [  60.,   70.,   80.,   90.,  100.],  \n",
    "       [ 110.,  120.,  130.,  140.,  150.],  \n",
    "       [   0.,    0.,    0.,    1.,    1.],  \n",
    "       [   0.,    0.,    0.,    1.,    1.],  \n",
    "       [   0.,    0.,    0.,    1.,    1.],  \n",
    "       [  10.,   20.,   30.,   40.,   50.],  \n",
    "       [  60.,   70.,   80.,   90.,  100.],  \n",
    "       [ 110.,  120.,  130.,  140.,  150.]  \n",
    "       ])"
   ]
  },
  {
   "cell_type": "code",
   "execution_count": null,
   "metadata": {},
   "outputs": [],
   "source": []
  },
  {
   "cell_type": "markdown",
   "metadata": {},
   "source": [
    "### 연습 문제 5\n",
    "실수로 이루어진 5 x 6 형태의 데이터 행렬을 만들고 이 데이터에 대해 다음과 같은 값을 구한다.  \n",
    "1) 전체의 최댓값"
   ]
  },
  {
   "cell_type": "code",
   "execution_count": null,
   "metadata": {},
   "outputs": [],
   "source": []
  },
  {
   "cell_type": "markdown",
   "metadata": {},
   "source": [
    "2) 각 행의 합"
   ]
  },
  {
   "cell_type": "code",
   "execution_count": null,
   "metadata": {},
   "outputs": [],
   "source": []
  },
  {
   "cell_type": "markdown",
   "metadata": {},
   "source": [
    "3) 각 열의 평균"
   ]
  },
  {
   "cell_type": "code",
   "execution_count": null,
   "metadata": {},
   "outputs": [],
   "source": []
  },
  {
   "cell_type": "markdown",
   "metadata": {},
   "source": [
    "### 연습문제 6\n",
    "다음 배열은 첫번째 행(row)에 학번, 두번째 행에 영어 성적, 세번째 행에 수학 성적을 적은 배열이다.  \n",
    "영어 성적을 기준으로 각 열(column)을 재정렬하라.\n",
    "\n",
    "array([  \n",
    "[  1,    2,    3,    4],  \n",
    "       [ 46,   99,  100,   71],  \n",
    "       [ 81,   59,   90,  100]  \n",
    "       ])"
   ]
  },
  {
   "cell_type": "code",
   "execution_count": null,
   "metadata": {},
   "outputs": [],
   "source": []
  }
 ],
 "metadata": {
  "kernelspec": {
   "display_name": "Python 3",
   "language": "python",
   "name": "python3"
  },
  "language_info": {
   "codemirror_mode": {
    "name": "ipython",
    "version": 3
   },
   "file_extension": ".py",
   "mimetype": "text/x-python",
   "name": "python",
   "nbconvert_exporter": "python",
   "pygments_lexer": "ipython3",
   "version": "3.7.3"
  }
 },
 "nbformat": 4,
 "nbformat_minor": 2
}
