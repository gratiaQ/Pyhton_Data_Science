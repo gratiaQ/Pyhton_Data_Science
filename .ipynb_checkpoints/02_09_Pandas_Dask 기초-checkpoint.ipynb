{
 "cells": [
  {
   "cell_type": "markdown",
   "metadata": {},
   "source": [
    "### 12. Dask 사용법 기초\n",
    "Pandas 는 데이터베이스나 CSV 파일의 데이터를 모두 메모리로 읽어들인  \n",
    "다음 메모리 위에서 데이터를 처리한다.  \n",
    "하지만 데이터의 양이 많은 경우에는 메모리의 제한으로  \n",
    "데이터프레임을 만들 수 없는 경우가 있다.  \n",
    "또한 데이터프레임의 크기가 너무 크면 질의나 그룹 연산을 할 때  \n",
    "하나의 CPU 코어로 처리하기에는 시간이 너무 많이 걸릴 수도 있다.  \n",
    "  \n",
    "이러한 경우에 도움이 되는 것이 Dask 패키지이다.  \n",
    "Dask 패키지는 Pandas 데이터프레임 형식으로 빅데이터를 처리하기 위한  \n",
    "파이썬 패키지로 다음과 같은 두 가지 기능을 가진다.  \n",
    "- 가상 데이터프레임\n",
    "- 병렬처리용 작업 스케줄러"
   ]
  },
  {
   "cell_type": "markdown",
   "metadata": {},
   "source": [
    "### 12.1 가상 데이터프레임\n",
    "Dask 패키지를 사용하면 가상 데이터프레임을 만들 수 있다.  \n",
    "가상 데이터프레임은 Pandas 데이터프레임과 비슷한 기능을 제공하지만  \n",
    "실제로 모든 데이터가 메모리 상에 로드되어 있는 것이 아니라  \n",
    "하나 이상의 파일 혹은 데이터베이스에 존재하는 채로 처리할 수 있는 기능이다.  \n",
    "따라서 메모리 크기와 관계 없이 엄청나게 큰 CSV 파일을 가상 데이터프레임으로 로드하거나  \n",
    "같은 형식의 데이터를 가진 여러개의 CSV 파일을 하나의 가상 데이터프레임에 로드할 수 있다.  \n",
    "  \n",
    "실제로 Dask의 가상 데이터프레임을 어떻게 쓸 수 있는지 실습을 통해 알아보자.  \n",
    "실습을 위해 홈 디렉토리 아래에 data라는 임시 디렉토리를 만들고  \n",
    "그곳으로 옮겨 CSV 파일을 하나 만들어 보자."
   ]
  },
  {
   "cell_type": "code",
   "execution_count": 2,
   "metadata": {},
   "outputs": [],
   "source": [
    "import pandas as pd\n",
    "import numpy as np"
   ]
  },
  {
   "cell_type": "code",
   "execution_count": 3,
   "metadata": {},
   "outputs": [
    {
     "name": "stdout",
     "output_type": "stream",
     "text": [
      "Writing data1.csv\n"
     ]
    }
   ],
   "source": [
    "%%writefile data1.csv\n",
    "time,temperature,humidity\n",
    "0,22,58\n",
    "1,21,57\n",
    "2,25,57\n",
    "3,26,55\n",
    "4,22,53\n",
    "5,23,59"
   ]
  },
  {
   "cell_type": "markdown",
   "metadata": {},
   "source": [
    "Dask 패키지의 dataframe 서브패키지를 dd라는 이름으로 임포트한다."
   ]
  },
  {
   "cell_type": "code",
   "execution_count": 4,
   "metadata": {},
   "outputs": [],
   "source": [
    "import dask.dataframe as dd"
   ]
  },
  {
   "cell_type": "markdown",
   "metadata": {},
   "source": [
    "read_csv 명령으로 데이터 파일 data1.csv에 대한 가상 데이터프레임 df를 만든다."
   ]
  },
  {
   "cell_type": "code",
   "execution_count": 5,
   "metadata": {},
   "outputs": [
    {
     "data": {
      "text/html": [
       "<div><strong>Dask DataFrame Structure:</strong></div>\n",
       "<div>\n",
       "<style scoped>\n",
       "    .dataframe tbody tr th:only-of-type {\n",
       "        vertical-align: middle;\n",
       "    }\n",
       "\n",
       "    .dataframe tbody tr th {\n",
       "        vertical-align: top;\n",
       "    }\n",
       "\n",
       "    .dataframe thead th {\n",
       "        text-align: right;\n",
       "    }\n",
       "</style>\n",
       "<table border=\"1\" class=\"dataframe\">\n",
       "  <thead>\n",
       "    <tr style=\"text-align: right;\">\n",
       "      <th></th>\n",
       "      <th>time</th>\n",
       "      <th>temperature</th>\n",
       "      <th>humidity</th>\n",
       "    </tr>\n",
       "    <tr>\n",
       "      <th>npartitions=1</th>\n",
       "      <th></th>\n",
       "      <th></th>\n",
       "      <th></th>\n",
       "    </tr>\n",
       "  </thead>\n",
       "  <tbody>\n",
       "    <tr>\n",
       "      <th></th>\n",
       "      <td>int64</td>\n",
       "      <td>int64</td>\n",
       "      <td>int64</td>\n",
       "    </tr>\n",
       "    <tr>\n",
       "      <th></th>\n",
       "      <td>...</td>\n",
       "      <td>...</td>\n",
       "      <td>...</td>\n",
       "    </tr>\n",
       "  </tbody>\n",
       "</table>\n",
       "</div>\n",
       "<div>Dask Name: from-delayed, 3 tasks</div>"
      ],
      "text/plain": [
       "Dask DataFrame Structure:\n",
       "                time temperature humidity\n",
       "npartitions=1                            \n",
       "               int64       int64    int64\n",
       "                 ...         ...      ...\n",
       "Dask Name: from-delayed, 3 tasks"
      ]
     },
     "execution_count": 5,
     "metadata": {},
     "output_type": "execute_result"
    }
   ],
   "source": [
    "df = dd.read_csv(\"data1.csv\")\n",
    "df"
   ]
  },
  {
   "cell_type": "markdown",
   "metadata": {},
   "source": [
    "df는 데이터프레임과 유사하지만 실제로 데이터를 메모리에 읽지 않았기 때문에 값은 표시되지 않는다.\n",
    "\n",
    "head, tail 명령을 내리면 그 때서야 일부 데이터를 읽어서 표시한다."
   ]
  },
  {
   "cell_type": "code",
   "execution_count": 6,
   "metadata": {},
   "outputs": [
    {
     "data": {
      "text/html": [
       "<div>\n",
       "<style scoped>\n",
       "    .dataframe tbody tr th:only-of-type {\n",
       "        vertical-align: middle;\n",
       "    }\n",
       "\n",
       "    .dataframe tbody tr th {\n",
       "        vertical-align: top;\n",
       "    }\n",
       "\n",
       "    .dataframe thead th {\n",
       "        text-align: right;\n",
       "    }\n",
       "</style>\n",
       "<table border=\"1\" class=\"dataframe\">\n",
       "  <thead>\n",
       "    <tr style=\"text-align: right;\">\n",
       "      <th></th>\n",
       "      <th>time</th>\n",
       "      <th>temperature</th>\n",
       "      <th>humidity</th>\n",
       "    </tr>\n",
       "  </thead>\n",
       "  <tbody>\n",
       "    <tr>\n",
       "      <th>0</th>\n",
       "      <td>0</td>\n",
       "      <td>22</td>\n",
       "      <td>58</td>\n",
       "    </tr>\n",
       "    <tr>\n",
       "      <th>1</th>\n",
       "      <td>1</td>\n",
       "      <td>21</td>\n",
       "      <td>57</td>\n",
       "    </tr>\n",
       "    <tr>\n",
       "      <th>2</th>\n",
       "      <td>2</td>\n",
       "      <td>25</td>\n",
       "      <td>57</td>\n",
       "    </tr>\n",
       "    <tr>\n",
       "      <th>3</th>\n",
       "      <td>3</td>\n",
       "      <td>26</td>\n",
       "      <td>55</td>\n",
       "    </tr>\n",
       "    <tr>\n",
       "      <th>4</th>\n",
       "      <td>4</td>\n",
       "      <td>22</td>\n",
       "      <td>53</td>\n",
       "    </tr>\n",
       "  </tbody>\n",
       "</table>\n",
       "</div>"
      ],
      "text/plain": [
       "   time  temperature  humidity\n",
       "0     0           22        58\n",
       "1     1           21        57\n",
       "2     2           25        57\n",
       "3     3           26        55\n",
       "4     4           22        53"
      ]
     },
     "execution_count": 6,
     "metadata": {},
     "output_type": "execute_result"
    }
   ],
   "source": [
    "df.head()"
   ]
  },
  {
   "cell_type": "markdown",
   "metadata": {},
   "source": [
    "temperature 열의 평균을 구해보자."
   ]
  },
  {
   "cell_type": "code",
   "execution_count": 7,
   "metadata": {},
   "outputs": [
    {
     "data": {
      "text/plain": [
       "dd.Scalar<series-..., dtype=float64>"
      ]
     },
     "execution_count": 7,
     "metadata": {},
     "output_type": "execute_result"
    }
   ],
   "source": [
    "df.temperature.mean()"
   ]
  },
  {
   "cell_type": "markdown",
   "metadata": {},
   "source": [
    "데이터프레임과 달리 바로 결과가 나오지 않는다.  \n",
    "그 이유는 연산 반환값이 결과가 아닌 작업(task)이기 때문이다.  \n",
    "구체적으로 어떤 작업인지를 보려면 visualize 메서드를 사용하여  \n",
    "작업 그래프(graph)를 볼 수 있다.  \n",
    "작업 그래프란 이 계산을 하기 위해 실제로 CPU가 해야 할 일들의 순서도라고 볼 수 있다.  \n",
    "  \n",
    "이 작업의 값을 실제로 구하려면 결과로 받은 작업 객체의 compute 메서드를 호출해야 한다."
   ]
  },
  {
   "cell_type": "code",
   "execution_count": 8,
   "metadata": {},
   "outputs": [
    {
     "data": {
      "text/plain": [
       "23.166666666666668"
      ]
     },
     "execution_count": 8,
     "metadata": {},
     "output_type": "execute_result"
    }
   ],
   "source": [
    "df.temperature.mean().compute()"
   ]
  },
  {
   "cell_type": "markdown",
   "metadata": {},
   "source": [
    "이번에는 이 값을 화씨로 변환해 보자."
   ]
  },
  {
   "cell_type": "code",
   "execution_count": 9,
   "metadata": {},
   "outputs": [
    {
     "data": {
      "text/plain": [
       "0    71.6\n",
       "1    69.8\n",
       "2    77.0\n",
       "3    78.8\n",
       "4    71.6\n",
       "5    73.4\n",
       "Name: temperature, dtype: float64"
      ]
     },
     "execution_count": 9,
     "metadata": {},
     "output_type": "execute_result"
    }
   ],
   "source": [
    "(df.temperature * 9 / 5 + 32).compute()"
   ]
  },
  {
   "cell_type": "markdown",
   "metadata": {},
   "source": [
    "이번에는 이 값으로 원래의 temperature 열을 갱신해보자.  \n",
    "이 때는 Pandas의 문법을 쓰지 못하고 다음과 같이 assign 메서드를 사용해야 한다.  \n",
    "assign 메서드를 사용할 때는 compute를 할 필요가 없다."
   ]
  },
  {
   "cell_type": "code",
   "execution_count": 10,
   "metadata": {},
   "outputs": [
    {
     "data": {
      "text/html": [
       "<div>\n",
       "<style scoped>\n",
       "    .dataframe tbody tr th:only-of-type {\n",
       "        vertical-align: middle;\n",
       "    }\n",
       "\n",
       "    .dataframe tbody tr th {\n",
       "        vertical-align: top;\n",
       "    }\n",
       "\n",
       "    .dataframe thead th {\n",
       "        text-align: right;\n",
       "    }\n",
       "</style>\n",
       "<table border=\"1\" class=\"dataframe\">\n",
       "  <thead>\n",
       "    <tr style=\"text-align: right;\">\n",
       "      <th></th>\n",
       "      <th>time</th>\n",
       "      <th>temperature</th>\n",
       "      <th>humidity</th>\n",
       "    </tr>\n",
       "  </thead>\n",
       "  <tbody>\n",
       "    <tr>\n",
       "      <th>0</th>\n",
       "      <td>0</td>\n",
       "      <td>71.6</td>\n",
       "      <td>58</td>\n",
       "    </tr>\n",
       "    <tr>\n",
       "      <th>1</th>\n",
       "      <td>1</td>\n",
       "      <td>69.8</td>\n",
       "      <td>57</td>\n",
       "    </tr>\n",
       "    <tr>\n",
       "      <th>2</th>\n",
       "      <td>2</td>\n",
       "      <td>77.0</td>\n",
       "      <td>57</td>\n",
       "    </tr>\n",
       "    <tr>\n",
       "      <th>3</th>\n",
       "      <td>3</td>\n",
       "      <td>78.8</td>\n",
       "      <td>55</td>\n",
       "    </tr>\n",
       "    <tr>\n",
       "      <th>4</th>\n",
       "      <td>4</td>\n",
       "      <td>71.6</td>\n",
       "      <td>53</td>\n",
       "    </tr>\n",
       "  </tbody>\n",
       "</table>\n",
       "</div>"
      ],
      "text/plain": [
       "   time  temperature  humidity\n",
       "0     0         71.6        58\n",
       "1     1         69.8        57\n",
       "2     2         77.0        57\n",
       "3     3         78.8        55\n",
       "4     4         71.6        53"
      ]
     },
     "execution_count": 10,
     "metadata": {},
     "output_type": "execute_result"
    }
   ],
   "source": [
    "df = df.assign(temperature=df.temperature * 9 / 5 + 32)\n",
    "df.head()"
   ]
  },
  {
   "cell_type": "markdown",
   "metadata": {},
   "source": [
    "자료형을 변환하거나 새로운 열을 추가하는 것도 가능하다."
   ]
  },
  {
   "cell_type": "code",
   "execution_count": 11,
   "metadata": {},
   "outputs": [
    {
     "data": {
      "text/html": [
       "<div>\n",
       "<style scoped>\n",
       "    .dataframe tbody tr th:only-of-type {\n",
       "        vertical-align: middle;\n",
       "    }\n",
       "\n",
       "    .dataframe tbody tr th {\n",
       "        vertical-align: top;\n",
       "    }\n",
       "\n",
       "    .dataframe thead th {\n",
       "        text-align: right;\n",
       "    }\n",
       "</style>\n",
       "<table border=\"1\" class=\"dataframe\">\n",
       "  <thead>\n",
       "    <tr style=\"text-align: right;\">\n",
       "      <th></th>\n",
       "      <th>time</th>\n",
       "      <th>temperature</th>\n",
       "      <th>humidity</th>\n",
       "      <th>title</th>\n",
       "    </tr>\n",
       "  </thead>\n",
       "  <tbody>\n",
       "    <tr>\n",
       "      <th>0</th>\n",
       "      <td>0</td>\n",
       "      <td>71.6</td>\n",
       "      <td>58</td>\n",
       "      <td>71.6 degree</td>\n",
       "    </tr>\n",
       "    <tr>\n",
       "      <th>1</th>\n",
       "      <td>1</td>\n",
       "      <td>69.8</td>\n",
       "      <td>57</td>\n",
       "      <td>69.8 degree</td>\n",
       "    </tr>\n",
       "    <tr>\n",
       "      <th>2</th>\n",
       "      <td>2</td>\n",
       "      <td>77.0</td>\n",
       "      <td>57</td>\n",
       "      <td>77.0 degree</td>\n",
       "    </tr>\n",
       "    <tr>\n",
       "      <th>3</th>\n",
       "      <td>3</td>\n",
       "      <td>78.8</td>\n",
       "      <td>55</td>\n",
       "      <td>78.8 degree</td>\n",
       "    </tr>\n",
       "    <tr>\n",
       "      <th>4</th>\n",
       "      <td>4</td>\n",
       "      <td>71.6</td>\n",
       "      <td>53</td>\n",
       "      <td>71.6 degree</td>\n",
       "    </tr>\n",
       "  </tbody>\n",
       "</table>\n",
       "</div>"
      ],
      "text/plain": [
       "   time  temperature  humidity        title\n",
       "0     0         71.6        58  71.6 degree\n",
       "1     1         69.8        57  69.8 degree\n",
       "2     2         77.0        57  77.0 degree\n",
       "3     3         78.8        55  78.8 degree\n",
       "4     4         71.6        53  71.6 degree"
      ]
     },
     "execution_count": 11,
     "metadata": {},
     "output_type": "execute_result"
    }
   ],
   "source": [
    "df = df.assign(title=df.temperature.astype(str) + \" degree\")\n",
    "df.head()"
   ]
  },
  {
   "cell_type": "markdown",
   "metadata": {},
   "source": [
    "#### 12.2 복수 데이터에 대한 가상 데이터프레임\n",
    "Dask의 가상 데이터프레임이므로 원천 데이터 파일을 하나가 아닌 복수로 설정할 수도 있다.  \n",
    "예를 들어 앞서 보았던 data1.csv 파일 이외에도  \n",
    "다음과 같이 data2.csv', 'data3.csv 파일이 있을 경우,  \n",
    "이 파일을 한 번에 하나의 데이터프레임으로 읽어들일 수도 있다."
   ]
  },
  {
   "cell_type": "code",
   "execution_count": 12,
   "metadata": {},
   "outputs": [
    {
     "name": "stdout",
     "output_type": "stream",
     "text": [
      "Writing data2.csv\n"
     ]
    }
   ],
   "source": [
    "%%writefile data2.csv\n",
    "time,temperature,humidity\n",
    "0,22,58\n",
    "1,21,57\n",
    "2,25,57\n",
    "3,26,55\n",
    "4,22,53\n",
    "5,23,59"
   ]
  },
  {
   "cell_type": "code",
   "execution_count": 13,
   "metadata": {},
   "outputs": [
    {
     "name": "stdout",
     "output_type": "stream",
     "text": [
      "Writing data3.csv\n"
     ]
    }
   ],
   "source": [
    "%%writefile data3.csv\n",
    "time,temperature,humidity\n",
    "0,22,58\n",
    "1,21,57\n",
    "2,25,57\n",
    "3,26,55\n",
    "4,22,53\n",
    "5,23,59"
   ]
  },
  {
   "cell_type": "markdown",
   "metadata": {},
   "source": [
    "복수 파일은 와일드카드(*) 기호를 이용하여 읽는다."
   ]
  },
  {
   "cell_type": "code",
   "execution_count": 14,
   "metadata": {},
   "outputs": [
    {
     "data": {
      "text/plain": [
       "time           18\n",
       "temperature    18\n",
       "humidity       18\n",
       "dtype: int64"
      ]
     },
     "execution_count": 14,
     "metadata": {},
     "output_type": "execute_result"
    }
   ],
   "source": [
    "df = dd.read_csv('data*.csv')\n",
    "df.count().compute()"
   ]
  },
  {
   "cell_type": "code",
   "execution_count": 15,
   "metadata": {
    "scrolled": true
   },
   "outputs": [
    {
     "data": {
      "text/plain": [
       "count    18.000000\n",
       "mean     23.166667\n",
       "std       1.823055\n",
       "min      21.000000\n",
       "25%      22.000000\n",
       "50%      22.500000\n",
       "75%      24.500000\n",
       "max      26.000000\n",
       "Name: temperature, dtype: float64"
      ]
     },
     "execution_count": 15,
     "metadata": {},
     "output_type": "execute_result"
    }
   ],
   "source": [
    "df.temperature.describe().compute()"
   ]
  },
  {
   "cell_type": "markdown",
   "metadata": {},
   "source": [
    "#### 12.3 대량 데이터의 병렬 처리\n",
    "이번에는 Dask로 대량의 데이터를 처리해보자.  \n",
    "샘플로 쓸 데이터는 미국 정부가 발표하는 공개 정보 중 하나로 시카고의 범죄 관련 데이터이다.  \n",
    "- https://catalog.data.gov/dataset/crimes-2001-to-present-398a4  \n",
    "  \n",
    "다음 명령으로 이 데이터를 다운로드 받을 수 있다.  \n",
    "CSV 파일의 크기가 1.3GB가 넘으므로 다운로드에 10분 이상이 걸릴 수도 있다.  \n",
    "  \n",
    "- !wget -O crime.csv https://data.cityofchicago.org/api/views/ijzp-q8t2/rows.csv?accessType=DOWNLOAD  \n",
    "  \n",
    "파일을 다운로드 받은 후에는 가상 데이터프레임으로 읽어들인다.  \n",
    "구체적인 데이터를 아직 모르기 때문에 우선 문자열 자료형으로 읽어들인다.  \n",
    "또 error_bad_lines 옵션을 False로 해서 오류가 나는 데이터는 생략하도록 한다."
   ]
  },
  {
   "cell_type": "code",
   "execution_count": null,
   "metadata": {},
   "outputs": [],
   "source": [
    "#df = dd.read_csv(\"crime.csv\", dtype=str, error_bad_lines=False, warn_bad_lines=False)\n",
    "#df"
   ]
  },
  {
   "cell_type": "code",
   "execution_count": null,
   "metadata": {},
   "outputs": [],
   "source": [
    "# df.tail()"
   ]
  },
  {
   "cell_type": "markdown",
   "metadata": {},
   "source": [
    "이제 이 데이터프레임으로 분석을 시작하자.  \n",
    "데이터의 크기가 큰 만큼 시간이 오래 걸리기 때문에 Dask는 작업 진행도를 알 수 있는  \n",
    "ProgressBar란 것을 제공한다. 다음과 같이 ProgressBar를 만들고 등록한다."
   ]
  },
  {
   "cell_type": "code",
   "execution_count": null,
   "metadata": {},
   "outputs": [],
   "source": [
    "#from dask.diagnostics import ProgressBar\n",
    "\n",
    "#pbar = ProgressBar()\n",
    "#pbar.register()"
   ]
  },
  {
   "cell_type": "code",
   "execution_count": null,
   "metadata": {},
   "outputs": [],
   "source": [
    "# result\n",
    "#[########################################] | 100% Completed | 38.8s\n",
    "#CPU times: user 42.4 s, sys: 5.41 s, total: 47.8 s\n",
    "#Wall time: 38.8 s"
   ]
  },
  {
   "cell_type": "code",
   "execution_count": null,
   "metadata": {},
   "outputs": [],
   "source": [
    "#%%time\n",
    "#df.count().compute()"
   ]
  },
  {
   "cell_type": "markdown",
   "metadata": {},
   "source": [
    "각 열의 데이터 수를 세는 데만도 50초가 넘는 시간이 걸렸다.  \n",
    "  \n",
    "Dask는 이러한 대량 데이터의 분석 작업을 돕기 위한  \n",
    "작업 스케줄러(task scheduler)라는 것을 제공한다.  \n",
    "작업 스케줄러는 하나의 작업을 여러개의 쓰레드, 프로세스, 노드 등이 나누어 분담하도록 한다.  \n",
    "  \n",
    "현재 Dask에서 제공하는 스케줄러의 종류는 다음과 같다.  \n",
    "- dask.get: 단일 쓰레드\n",
    "- dask.threaded.get: 멀티쓰레드 풀(pool)\n",
    "- dask.multiprocessing.get: 멀티프로세스 풀\n",
    "- distributed.Client.get: 여러대의 컴퓨터에서 분산 처리\n",
    "  \n",
    "병렬처리를 위해서는 어떠한 병렬 처리 방식을 사용할지,  \n",
    "작업 프로세스의 갯수는 어떻게 할지 등은 compute 명령에서 인수로 설정해야 한다.  \n",
    "다음 코드는 멀티프로세싱을 하고 4개의 CPU 코어를 동시에 사용하도록 설정한 예이다.  \n",
    "(물론 이 코드가 실행되는 컴퓨터가 실제로 4개 이상의 코어를 가지고 있어야 성능이 개선된다.)"
   ]
  },
  {
   "cell_type": "code",
   "execution_count": null,
   "metadata": {},
   "outputs": [],
   "source": [
    "#%%time\n",
    "#df.count().compute(scheduler='processes', num_workers=4)"
   ]
  },
  {
   "cell_type": "code",
   "execution_count": null,
   "metadata": {},
   "outputs": [],
   "source": [
    "#result\n",
    "#[########################################] | 100% Completed | 17.1s\n",
    "#CPU times: user 450 ms, sys: 180 ms, total: 630 ms\n",
    "#Wall time: 17.2 s"
   ]
  },
  {
   "cell_type": "code",
   "execution_count": null,
   "metadata": {},
   "outputs": [],
   "source": [
    "#!rm data?.csv"
   ]
  }
 ],
 "metadata": {
  "kernelspec": {
   "display_name": "Python 3",
   "language": "python",
   "name": "python3"
  },
  "language_info": {
   "codemirror_mode": {
    "name": "ipython",
    "version": 3
   },
   "file_extension": ".py",
   "mimetype": "text/x-python",
   "name": "python",
   "nbconvert_exporter": "python",
   "pygments_lexer": "ipython3",
   "version": "3.7.3"
  }
 },
 "nbformat": 4,
 "nbformat_minor": 2
}
