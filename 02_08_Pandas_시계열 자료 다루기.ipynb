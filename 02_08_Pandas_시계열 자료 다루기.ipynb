{
 "cells": [
  {
   "cell_type": "markdown",
   "metadata": {},
   "source": [
    "### 11. 시계열 자료 다루기\n",
    "시계열 자료는 인덱스가 날짜 혹은 시간인 데이터를 말한다.  \n",
    "Pandas에서 시계열 자료를 생성하려면 인덱스를 DatetimeIndex 자료형으로 만들어야 한다.  \n",
    "DatetimeIndex는 특정한 순간에 기록된 타임스탬프(timestamp) 형식의  \n",
    "시계열 자료를 다루기 위한 인덱스이다.  \n",
    "타임스탬프 인덱스의 라벨값이 반드시 일정한 간격일 필요는 없다.\n",
    "  \n",
    "#### 11. 1DatetimeIndex 인덱스는 다음과 같은 보조 함수를 사용하여 생성한다.  \n",
    "  \n",
    "- pd.to_datetime 함수\n",
    "- pd.date_range 함수\n",
    "- pd.to_datetime 함수를 쓰면 날짜/시간을 나타내는 문자열을 자동으로 datetime 자료형으로 바꾼 후 DatetimeIndex 자료형 인덱스를 생성한다."
   ]
  },
  {
   "cell_type": "code",
   "execution_count": 2,
   "metadata": {},
   "outputs": [
    {
     "data": {
      "text/plain": [
       "DatetimeIndex(['2018-01-01', '2018-01-04', '2018-01-05', '2018-01-06'], dtype='datetime64[ns]', freq=None)"
      ]
     },
     "execution_count": 2,
     "metadata": {},
     "output_type": "execute_result"
    }
   ],
   "source": [
    "import pandas as pd\n",
    "import numpy as np\n",
    "date_str = [\"2018, 1, 1\", \"2018, 1, 4\", \"2018, 1, 5\", \"2018, 1, 6\"]\n",
    "idx = pd.to_datetime(date_str)\n",
    "idx"
   ]
  },
  {
   "cell_type": "markdown",
   "metadata": {},
   "source": [
    "이렇게 만들어진 인덱스를 사용하여 시리즈나 데이터프레임을 생성하면 된다."
   ]
  },
  {
   "cell_type": "code",
   "execution_count": 3,
   "metadata": {},
   "outputs": [
    {
     "data": {
      "text/plain": [
       "2018-01-01    1.764052\n",
       "2018-01-04    0.400157\n",
       "2018-01-05    0.978738\n",
       "2018-01-06    2.240893\n",
       "dtype: float64"
      ]
     },
     "execution_count": 3,
     "metadata": {},
     "output_type": "execute_result"
    }
   ],
   "source": [
    "np.random.seed(0)\n",
    "s = pd.Series(np.random.randn(4), index=idx)\n",
    "s"
   ]
  },
  {
   "cell_type": "markdown",
   "metadata": {},
   "source": [
    "pd.date_range 함수를 쓰면 모든 날짜/시간을 일일히 입력할 필요없이 시작일과 종료일 또는  \n",
    "시작일과 기간을 입력하면 범위 내의 인덱스를 생성해 준다."
   ]
  },
  {
   "cell_type": "code",
   "execution_count": 4,
   "metadata": {},
   "outputs": [
    {
     "data": {
      "text/plain": [
       "DatetimeIndex(['2018-04-01', '2018-04-02', '2018-04-03', '2018-04-04',\n",
       "               '2018-04-05', '2018-04-06', '2018-04-07', '2018-04-08',\n",
       "               '2018-04-09', '2018-04-10', '2018-04-11', '2018-04-12',\n",
       "               '2018-04-13', '2018-04-14', '2018-04-15', '2018-04-16',\n",
       "               '2018-04-17', '2018-04-18', '2018-04-19', '2018-04-20',\n",
       "               '2018-04-21', '2018-04-22', '2018-04-23', '2018-04-24',\n",
       "               '2018-04-25', '2018-04-26', '2018-04-27', '2018-04-28',\n",
       "               '2018-04-29', '2018-04-30'],\n",
       "              dtype='datetime64[ns]', freq='D')"
      ]
     },
     "execution_count": 4,
     "metadata": {},
     "output_type": "execute_result"
    }
   ],
   "source": [
    "pd.date_range(\"2018-4-1\", \"2018-4-30\")"
   ]
  },
  {
   "cell_type": "code",
   "execution_count": 5,
   "metadata": {},
   "outputs": [
    {
     "data": {
      "text/plain": [
       "DatetimeIndex(['2018-04-01', '2018-04-02', '2018-04-03', '2018-04-04',\n",
       "               '2018-04-05', '2018-04-06', '2018-04-07', '2018-04-08',\n",
       "               '2018-04-09', '2018-04-10', '2018-04-11', '2018-04-12',\n",
       "               '2018-04-13', '2018-04-14', '2018-04-15', '2018-04-16',\n",
       "               '2018-04-17', '2018-04-18', '2018-04-19', '2018-04-20',\n",
       "               '2018-04-21', '2018-04-22', '2018-04-23', '2018-04-24',\n",
       "               '2018-04-25', '2018-04-26', '2018-04-27', '2018-04-28',\n",
       "               '2018-04-29', '2018-04-30'],\n",
       "              dtype='datetime64[ns]', freq='D')"
      ]
     },
     "execution_count": 5,
     "metadata": {},
     "output_type": "execute_result"
    }
   ],
   "source": [
    "pd.date_range(start=\"2018-4-1\", periods=30)"
   ]
  },
  {
   "cell_type": "markdown",
   "metadata": {},
   "source": [
    "freq 인수로 특정한 날짜만 생성되도록 할 수도 있다. 많이 사용되는 freq 인수값은 다음과 같다.\n",
    "\n",
    "- s: 초\n",
    "- T: 분\n",
    "- H: 시간\n",
    "- D: 일(day)\n",
    "- B: 주말이 아닌 평일\n",
    "- W: 주(일요일)\n",
    "- W-MON: 주(월요일)\n",
    "- M: 각 달(month)의 마지막 날\n",
    "- MS: 각 달의 첫날\n",
    "- BM: 주말이 아닌 평일 중에서 각 달의 마지막 날\n",
    "- BMS: 주말이 아닌 평일 중에서 각 달의 첫날\n",
    "- WOM-2THU: 각 달의 두번째 목요일\n",
    "- Q-JAN: 각 분기의 첫달의 마지막 날\n",
    "- Q-DEC: 각 분기의 마지막 달의 마지막 날  \n",
    "  \n",
    "보다 자세한 내용은 다음 웹사이트를 참조한다.  \n",
    "- http://pandas.pydata.org/pandas-docs/stable/timeseries.html#offset-aliases"
   ]
  },
  {
   "cell_type": "code",
   "execution_count": 6,
   "metadata": {},
   "outputs": [
    {
     "data": {
      "text/plain": [
       "DatetimeIndex(['2018-04-02', '2018-04-03', '2018-04-04', '2018-04-05',\n",
       "               '2018-04-06', '2018-04-09', '2018-04-10', '2018-04-11',\n",
       "               '2018-04-12', '2018-04-13', '2018-04-16', '2018-04-17',\n",
       "               '2018-04-18', '2018-04-19', '2018-04-20', '2018-04-23',\n",
       "               '2018-04-24', '2018-04-25', '2018-04-26', '2018-04-27',\n",
       "               '2018-04-30'],\n",
       "              dtype='datetime64[ns]', freq='B')"
      ]
     },
     "execution_count": 6,
     "metadata": {},
     "output_type": "execute_result"
    }
   ],
   "source": [
    "pd.date_range(\"2018-4-1\", \"2018-4-30\", freq=\"B\")"
   ]
  },
  {
   "cell_type": "code",
   "execution_count": 7,
   "metadata": {},
   "outputs": [
    {
     "data": {
      "text/plain": [
       "DatetimeIndex(['2018-01-07', '2018-01-14', '2018-01-21', '2018-01-28',\n",
       "               '2018-02-04', '2018-02-11', '2018-02-18', '2018-02-25',\n",
       "               '2018-03-04', '2018-03-11', '2018-03-18', '2018-03-25',\n",
       "               '2018-04-01', '2018-04-08', '2018-04-15', '2018-04-22',\n",
       "               '2018-04-29', '2018-05-06', '2018-05-13', '2018-05-20',\n",
       "               '2018-05-27', '2018-06-03', '2018-06-10', '2018-06-17',\n",
       "               '2018-06-24', '2018-07-01', '2018-07-08', '2018-07-15',\n",
       "               '2018-07-22', '2018-07-29', '2018-08-05', '2018-08-12',\n",
       "               '2018-08-19', '2018-08-26', '2018-09-02', '2018-09-09',\n",
       "               '2018-09-16', '2018-09-23', '2018-09-30', '2018-10-07',\n",
       "               '2018-10-14', '2018-10-21', '2018-10-28', '2018-11-04',\n",
       "               '2018-11-11', '2018-11-18', '2018-11-25', '2018-12-02',\n",
       "               '2018-12-09', '2018-12-16', '2018-12-23', '2018-12-30'],\n",
       "              dtype='datetime64[ns]', freq='W-SUN')"
      ]
     },
     "execution_count": 7,
     "metadata": {},
     "output_type": "execute_result"
    }
   ],
   "source": [
    "pd.date_range(\"2018-1-1\", \"2018-12-31\", freq=\"W\")"
   ]
  },
  {
   "cell_type": "code",
   "execution_count": 8,
   "metadata": {},
   "outputs": [
    {
     "data": {
      "text/plain": [
       "DatetimeIndex(['2018-01-01', '2018-01-08', '2018-01-15', '2018-01-22',\n",
       "               '2018-01-29', '2018-02-05', '2018-02-12', '2018-02-19',\n",
       "               '2018-02-26', '2018-03-05', '2018-03-12', '2018-03-19',\n",
       "               '2018-03-26', '2018-04-02', '2018-04-09', '2018-04-16',\n",
       "               '2018-04-23', '2018-04-30', '2018-05-07', '2018-05-14',\n",
       "               '2018-05-21', '2018-05-28', '2018-06-04', '2018-06-11',\n",
       "               '2018-06-18', '2018-06-25', '2018-07-02', '2018-07-09',\n",
       "               '2018-07-16', '2018-07-23', '2018-07-30', '2018-08-06',\n",
       "               '2018-08-13', '2018-08-20', '2018-08-27', '2018-09-03',\n",
       "               '2018-09-10', '2018-09-17', '2018-09-24', '2018-10-01',\n",
       "               '2018-10-08', '2018-10-15', '2018-10-22', '2018-10-29',\n",
       "               '2018-11-05', '2018-11-12', '2018-11-19', '2018-11-26',\n",
       "               '2018-12-03', '2018-12-10', '2018-12-17', '2018-12-24',\n",
       "               '2018-12-31'],\n",
       "              dtype='datetime64[ns]', freq='W-MON')"
      ]
     },
     "execution_count": 8,
     "metadata": {},
     "output_type": "execute_result"
    }
   ],
   "source": [
    "pd.date_range(\"2018-1-1\", \"2018-12-31\", freq=\"W-MON\")"
   ]
  },
  {
   "cell_type": "code",
   "execution_count": 9,
   "metadata": {},
   "outputs": [
    {
     "data": {
      "text/plain": [
       "DatetimeIndex(['2018-04-01', '2018-05-01', '2018-06-01', '2018-07-01',\n",
       "               '2018-08-01', '2018-09-01', '2018-10-01', '2018-11-01',\n",
       "               '2018-12-01'],\n",
       "              dtype='datetime64[ns]', freq='MS')"
      ]
     },
     "execution_count": 9,
     "metadata": {},
     "output_type": "execute_result"
    }
   ],
   "source": [
    "pd.date_range(\"2018-4-1\", \"2018-12-31\", freq=\"MS\")"
   ]
  },
  {
   "cell_type": "code",
   "execution_count": 10,
   "metadata": {},
   "outputs": [
    {
     "data": {
      "text/plain": [
       "DatetimeIndex(['2018-04-30', '2018-05-31', '2018-06-30', '2018-07-31',\n",
       "               '2018-08-31', '2018-09-30', '2018-10-31', '2018-11-30',\n",
       "               '2018-12-31'],\n",
       "              dtype='datetime64[ns]', freq='M')"
      ]
     },
     "execution_count": 10,
     "metadata": {},
     "output_type": "execute_result"
    }
   ],
   "source": [
    "pd.date_range(\"2018-4-1\", \"2018-12-31\", freq=\"M\")"
   ]
  },
  {
   "cell_type": "code",
   "execution_count": 11,
   "metadata": {},
   "outputs": [
    {
     "data": {
      "text/plain": [
       "DatetimeIndex(['2018-04-02', '2018-05-01', '2018-06-01', '2018-07-02',\n",
       "               '2018-08-01', '2018-09-03', '2018-10-01', '2018-11-01',\n",
       "               '2018-12-03'],\n",
       "              dtype='datetime64[ns]', freq='BMS')"
      ]
     },
     "execution_count": 11,
     "metadata": {},
     "output_type": "execute_result"
    }
   ],
   "source": [
    "pd.date_range(\"2018-4-1\", \"2018-12-31\", freq=\"BMS\")"
   ]
  },
  {
   "cell_type": "code",
   "execution_count": 12,
   "metadata": {},
   "outputs": [
    {
     "data": {
      "text/plain": [
       "DatetimeIndex(['2018-04-30', '2018-05-31', '2018-06-29', '2018-07-31',\n",
       "               '2018-08-31', '2018-09-28', '2018-10-31', '2018-11-30',\n",
       "               '2018-12-31'],\n",
       "              dtype='datetime64[ns]', freq='BM')"
      ]
     },
     "execution_count": 12,
     "metadata": {},
     "output_type": "execute_result"
    }
   ],
   "source": [
    "pd.date_range(\"2018-4-1\", \"2018-12-31\", freq=\"BM\")"
   ]
  },
  {
   "cell_type": "code",
   "execution_count": 13,
   "metadata": {},
   "outputs": [
    {
     "data": {
      "text/plain": [
       "DatetimeIndex(['2018-01-11', '2018-02-08', '2018-03-08', '2018-04-12',\n",
       "               '2018-05-10', '2018-06-14', '2018-07-12', '2018-08-09',\n",
       "               '2018-09-13', '2018-10-11', '2018-11-08', '2018-12-13'],\n",
       "              dtype='datetime64[ns]', freq='WOM-2THU')"
      ]
     },
     "execution_count": 13,
     "metadata": {},
     "output_type": "execute_result"
    }
   ],
   "source": [
    "pd.date_range(\"2018-1-1\", \"2018-12-31\", freq=\"WOM-2THU\")"
   ]
  },
  {
   "cell_type": "code",
   "execution_count": 14,
   "metadata": {},
   "outputs": [
    {
     "data": {
      "text/plain": [
       "DatetimeIndex(['2018-01-31', '2018-04-30', '2018-07-31', '2018-10-31'], dtype='datetime64[ns]', freq='Q-JAN')"
      ]
     },
     "execution_count": 14,
     "metadata": {},
     "output_type": "execute_result"
    }
   ],
   "source": [
    "pd.date_range(\"2018-1-1\", \"2018-12-31\", freq=\"Q-JAN\")"
   ]
  },
  {
   "cell_type": "code",
   "execution_count": 15,
   "metadata": {},
   "outputs": [
    {
     "data": {
      "text/plain": [
       "DatetimeIndex(['2018-03-31', '2018-06-30', '2018-09-30', '2018-12-31'], dtype='datetime64[ns]', freq='Q-DEC')"
      ]
     },
     "execution_count": 15,
     "metadata": {},
     "output_type": "execute_result"
    }
   ],
   "source": [
    "pd.date_range(\"2018-1-1\", \"2018-12-31\", freq=\"Q-DEC\")"
   ]
  },
  {
   "cell_type": "markdown",
   "metadata": {},
   "source": [
    "#### 11.2 shift 연산\n",
    "시계열 데이터의 인덱스는 시간이나 날짜를 나타내기 때문에 날짜 이동 등의 다양한 연산이 가능하다.  \n",
    "예를 들어 shift 연산을 사용하면 인덱스는 그대로 두고 데이터만 이동할 수도 있다."
   ]
  },
  {
   "cell_type": "code",
   "execution_count": 16,
   "metadata": {
    "scrolled": true
   },
   "outputs": [
    {
     "data": {
      "text/plain": [
       "2018-01-31    1.764052\n",
       "2018-02-28    0.400157\n",
       "2018-03-31    0.978738\n",
       "2018-04-30    2.240893\n",
       "Freq: M, dtype: float64"
      ]
     },
     "execution_count": 16,
     "metadata": {},
     "output_type": "execute_result"
    }
   ],
   "source": [
    "np.random.seed(0)\n",
    "ts = pd.Series(np.random.randn(4), index=pd.date_range(\n",
    "    \"2018-1-1\", periods=4, freq=\"M\"))\n",
    "ts"
   ]
  },
  {
   "cell_type": "code",
   "execution_count": 17,
   "metadata": {},
   "outputs": [
    {
     "data": {
      "text/plain": [
       "2018-01-31    0.400157\n",
       "2018-02-28    0.978738\n",
       "2018-03-31    2.240893\n",
       "2018-04-30         NaN\n",
       "Freq: M, dtype: float64"
      ]
     },
     "execution_count": 17,
     "metadata": {},
     "output_type": "execute_result"
    }
   ],
   "source": [
    "ts.shift(-1)"
   ]
  },
  {
   "cell_type": "code",
   "execution_count": 18,
   "metadata": {},
   "outputs": [
    {
     "data": {
      "text/plain": [
       "2018-02-28    1.764052\n",
       "2018-03-31    0.400157\n",
       "2018-04-30    0.978738\n",
       "2018-05-31    2.240893\n",
       "Freq: M, dtype: float64"
      ]
     },
     "execution_count": 18,
     "metadata": {},
     "output_type": "execute_result"
    }
   ],
   "source": [
    "ts.shift(1, freq=\"M\")"
   ]
  },
  {
   "cell_type": "code",
   "execution_count": 19,
   "metadata": {},
   "outputs": [
    {
     "data": {
      "text/plain": [
       "2018-02-04    1.764052\n",
       "2018-03-04    0.400157\n",
       "2018-04-01    0.978738\n",
       "2018-05-06    2.240893\n",
       "Freq: WOM-1SUN, dtype: float64"
      ]
     },
     "execution_count": 19,
     "metadata": {},
     "output_type": "execute_result"
    }
   ],
   "source": [
    "ts.shift(1, freq=\"W\")"
   ]
  },
  {
   "cell_type": "markdown",
   "metadata": {},
   "source": [
    "#### 11.3 resample 연산\n",
    "resample 연산을 쓰면 시간 간격을 재조정하는 리샘플링(resampling)이 가능하다.  \n",
    "이 때 시간 구간이 작아지면 데이터 양이 증가한다고 해서 업-샘플링(up-sampling)이라 하고  \n",
    "시간 구간이 커지면 데이터 양이 감소한다고 해서 다운-샘플링(down-sampling)이라 부른다."
   ]
  },
  {
   "cell_type": "code",
   "execution_count": 20,
   "metadata": {},
   "outputs": [
    {
     "data": {
      "text/plain": [
       "2018-03-22    1.488252\n",
       "2018-03-23    1.895889\n",
       "2018-03-24    1.178780\n",
       "2018-03-25   -0.179925\n",
       "2018-03-26   -1.070753\n",
       "2018-03-27    1.054452\n",
       "2018-03-28   -0.403177\n",
       "2018-03-29    1.222445\n",
       "2018-03-30    0.208275\n",
       "2018-03-31    0.976639\n",
       "2018-04-01    0.356366\n",
       "2018-04-02    0.706573\n",
       "2018-04-03    0.010500\n",
       "2018-04-04    1.785870\n",
       "2018-04-05    0.126912\n",
       "2018-04-06    0.401989\n",
       "2018-04-07    1.883151\n",
       "2018-04-08   -1.347759\n",
       "2018-04-09   -1.270485\n",
       "2018-04-10    0.969397\n",
       "Freq: D, dtype: float64"
      ]
     },
     "execution_count": 20,
     "metadata": {},
     "output_type": "execute_result"
    }
   ],
   "source": [
    "ts = pd.Series(np.random.randn(100), index=pd.date_range(\n",
    "    \"2018-1-1\", periods=100, freq=\"D\"))\n",
    "ts.tail(20)"
   ]
  },
  {
   "cell_type": "markdown",
   "metadata": {},
   "source": [
    "다운-샘플링의 경우에는 원래의 데이터가 그룹으로 묶이기 때문에 그룹바이(groupby)때와 같이  \n",
    "그룹 연산을 해서 대표값을 구해야 한다"
   ]
  },
  {
   "cell_type": "code",
   "execution_count": 22,
   "metadata": {},
   "outputs": [
    {
     "data": {
      "text/plain": [
       "2018-01-07    0.305776\n",
       "2018-01-14    0.629064\n",
       "2018-01-21   -0.006910\n",
       "2018-01-28    0.277065\n",
       "2018-02-04   -0.144972\n",
       "2018-02-11   -0.496299\n",
       "2018-02-18   -0.474473\n",
       "2018-02-25   -0.201222\n",
       "2018-03-04   -0.775142\n",
       "2018-03-11    0.052868\n",
       "2018-03-18   -0.450379\n",
       "2018-03-25    0.601892\n",
       "2018-04-01    0.334893\n",
       "2018-04-08    0.509605\n",
       "2018-04-15   -0.150544\n",
       "Freq: W-SUN, dtype: float64"
      ]
     },
     "execution_count": 22,
     "metadata": {},
     "output_type": "execute_result"
    }
   ],
   "source": [
    "ts.resample('W').mean()"
   ]
  },
  {
   "cell_type": "code",
   "execution_count": 23,
   "metadata": {},
   "outputs": [
    {
     "data": {
      "text/plain": [
       "2018-01-31    1.867558\n",
       "2018-02-28    0.156349\n",
       "2018-03-31   -1.726283\n",
       "2018-04-30    0.356366\n",
       "Freq: M, dtype: float64"
      ]
     },
     "execution_count": 23,
     "metadata": {},
     "output_type": "execute_result"
    }
   ],
   "source": [
    "ts.resample('M').first()"
   ]
  },
  {
   "cell_type": "markdown",
   "metadata": {},
   "source": [
    "날짜가 아닌 시/분 단위에서는 구간위 왼쪽 한계값(가장 빠른 값)은 포함하고  \n",
    "오른쪽 한계값(가장 늦은 값)은 포함하지 않는다.  \n",
    "즉, 가장 늦은 값은 다음 구간에 포함된다.  \n",
    "예를 들어 10분 간격으로 구간을 만들면 10의 배수가 되는 시각은 구간의 시작점이 된다."
   ]
  },
  {
   "cell_type": "code",
   "execution_count": 25,
   "metadata": {},
   "outputs": [
    {
     "data": {
      "text/plain": [
       "2018-01-01 00:00:00   -1.225436\n",
       "2018-01-01 00:01:00    0.844363\n",
       "2018-01-01 00:02:00   -1.000215\n",
       "2018-01-01 00:03:00   -1.544771\n",
       "2018-01-01 00:04:00    1.188030\n",
       "2018-01-01 00:05:00    0.316943\n",
       "2018-01-01 00:06:00    0.920859\n",
       "2018-01-01 00:07:00    0.318728\n",
       "2018-01-01 00:08:00    0.856831\n",
       "2018-01-01 00:09:00   -0.651026\n",
       "2018-01-01 00:10:00   -1.034243\n",
       "2018-01-01 00:11:00    0.681595\n",
       "2018-01-01 00:12:00   -0.803410\n",
       "2018-01-01 00:13:00   -0.689550\n",
       "2018-01-01 00:14:00   -0.455533\n",
       "2018-01-01 00:15:00    0.017479\n",
       "2018-01-01 00:16:00   -0.353994\n",
       "2018-01-01 00:17:00   -1.374951\n",
       "2018-01-01 00:18:00   -0.643618\n",
       "2018-01-01 00:19:00   -2.223403\n",
       "Freq: T, dtype: float64"
      ]
     },
     "execution_count": 25,
     "metadata": {},
     "output_type": "execute_result"
    }
   ],
   "source": [
    "ts = pd.Series(np.random.randn(60), index=pd.date_range(\n",
    "    \"2018-1-1\", periods=60, freq=\"T\"))\n",
    "ts.head(20)"
   ]
  },
  {
   "cell_type": "code",
   "execution_count": 26,
   "metadata": {},
   "outputs": [
    {
     "data": {
      "text/plain": [
       "2018-01-01 00:00:00    0.024305\n",
       "2018-01-01 00:10:00   -6.879628\n",
       "2018-01-01 00:20:00   -3.458775\n",
       "2018-01-01 00:30:00    6.593151\n",
       "2018-01-01 00:40:00   -0.010101\n",
       "2018-01-01 00:50:00   -0.059354\n",
       "Freq: 10T, dtype: float64"
      ]
     },
     "execution_count": 26,
     "metadata": {},
     "output_type": "execute_result"
    }
   ],
   "source": [
    "ts.resample('10T').sum()"
   ]
  },
  {
   "cell_type": "markdown",
   "metadata": {},
   "source": [
    "왼쪽이 아니라 오른쪽 한계값을 구간에 포함하려면 closed=\"right\" 인수를 사용한다.  \n",
    "이 때는 10의 배수가 되는 시각이 앞 구간에 포함된다."
   ]
  },
  {
   "cell_type": "code",
   "execution_count": 27,
   "metadata": {},
   "outputs": [
    {
     "data": {
      "text/plain": [
       "2017-12-31 23:50:00   -1.225436\n",
       "2018-01-01 00:00:00    0.215498\n",
       "2018-01-01 00:10:00   -5.220154\n",
       "2018-01-01 00:20:00   -3.560730\n",
       "2018-01-01 00:30:00    6.710006\n",
       "2018-01-01 00:40:00   -1.594679\n",
       "2018-01-01 00:50:00    0.885092\n",
       "Freq: 10T, dtype: float64"
      ]
     },
     "execution_count": 27,
     "metadata": {},
     "output_type": "execute_result"
    }
   ],
   "source": [
    "ts.resample('10T', closed=\"right\").sum()"
   ]
  },
  {
   "cell_type": "markdown",
   "metadata": {},
   "source": [
    "ohlc 메서드는 구간의 시고저종(open, high, low, close)값을 구한다."
   ]
  },
  {
   "cell_type": "code",
   "execution_count": 28,
   "metadata": {},
   "outputs": [
    {
     "data": {
      "text/html": [
       "<div>\n",
       "<style scoped>\n",
       "    .dataframe tbody tr th:only-of-type {\n",
       "        vertical-align: middle;\n",
       "    }\n",
       "\n",
       "    .dataframe tbody tr th {\n",
       "        vertical-align: top;\n",
       "    }\n",
       "\n",
       "    .dataframe thead th {\n",
       "        text-align: right;\n",
       "    }\n",
       "</style>\n",
       "<table border=\"1\" class=\"dataframe\">\n",
       "  <thead>\n",
       "    <tr style=\"text-align: right;\">\n",
       "      <th></th>\n",
       "      <th>open</th>\n",
       "      <th>high</th>\n",
       "      <th>low</th>\n",
       "      <th>close</th>\n",
       "    </tr>\n",
       "  </thead>\n",
       "  <tbody>\n",
       "    <tr>\n",
       "      <th>2018-01-01 00:00:00</th>\n",
       "      <td>-1.225436</td>\n",
       "      <td>1.188030</td>\n",
       "      <td>-1.544771</td>\n",
       "      <td>1.188030</td>\n",
       "    </tr>\n",
       "    <tr>\n",
       "      <th>2018-01-01 00:05:00</th>\n",
       "      <td>0.316943</td>\n",
       "      <td>0.920859</td>\n",
       "      <td>-0.651026</td>\n",
       "      <td>-0.651026</td>\n",
       "    </tr>\n",
       "    <tr>\n",
       "      <th>2018-01-01 00:10:00</th>\n",
       "      <td>-1.034243</td>\n",
       "      <td>0.681595</td>\n",
       "      <td>-1.034243</td>\n",
       "      <td>-0.455533</td>\n",
       "    </tr>\n",
       "    <tr>\n",
       "      <th>2018-01-01 00:15:00</th>\n",
       "      <td>0.017479</td>\n",
       "      <td>0.017479</td>\n",
       "      <td>-2.223403</td>\n",
       "      <td>-2.223403</td>\n",
       "    </tr>\n",
       "    <tr>\n",
       "      <th>2018-01-01 00:20:00</th>\n",
       "      <td>0.625231</td>\n",
       "      <td>0.625231</td>\n",
       "      <td>-1.602058</td>\n",
       "      <td>-0.739563</td>\n",
       "    </tr>\n",
       "    <tr>\n",
       "      <th>2018-01-01 00:25:00</th>\n",
       "      <td>1.543015</td>\n",
       "      <td>1.543015</td>\n",
       "      <td>-1.292857</td>\n",
       "      <td>-1.168093</td>\n",
       "    </tr>\n",
       "    <tr>\n",
       "      <th>2018-01-01 00:30:00</th>\n",
       "      <td>0.523277</td>\n",
       "      <td>2.163236</td>\n",
       "      <td>-0.171546</td>\n",
       "      <td>2.163236</td>\n",
       "    </tr>\n",
       "    <tr>\n",
       "      <th>2018-01-01 00:35:00</th>\n",
       "      <td>1.336528</td>\n",
       "      <td>1.336528</td>\n",
       "      <td>-0.369182</td>\n",
       "      <td>0.655264</td>\n",
       "    </tr>\n",
       "    <tr>\n",
       "      <th>2018-01-01 00:40:00</th>\n",
       "      <td>0.640132</td>\n",
       "      <td>0.640132</td>\n",
       "      <td>-1.616956</td>\n",
       "      <td>0.279925</td>\n",
       "    </tr>\n",
       "    <tr>\n",
       "      <th>2018-01-01 00:45:00</th>\n",
       "      <td>-0.098150</td>\n",
       "      <td>0.910179</td>\n",
       "      <td>-0.466419</td>\n",
       "      <td>-0.466419</td>\n",
       "    </tr>\n",
       "    <tr>\n",
       "      <th>2018-01-01 00:50:00</th>\n",
       "      <td>-0.944446</td>\n",
       "      <td>2.259309</td>\n",
       "      <td>-0.944446</td>\n",
       "      <td>2.259309</td>\n",
       "    </tr>\n",
       "    <tr>\n",
       "      <th>2018-01-01 00:55:00</th>\n",
       "      <td>-0.042257</td>\n",
       "      <td>0.481481</td>\n",
       "      <td>-0.955945</td>\n",
       "      <td>0.481481</td>\n",
       "    </tr>\n",
       "  </tbody>\n",
       "</table>\n",
       "</div>"
      ],
      "text/plain": [
       "                         open      high       low     close\n",
       "2018-01-01 00:00:00 -1.225436  1.188030 -1.544771  1.188030\n",
       "2018-01-01 00:05:00  0.316943  0.920859 -0.651026 -0.651026\n",
       "2018-01-01 00:10:00 -1.034243  0.681595 -1.034243 -0.455533\n",
       "2018-01-01 00:15:00  0.017479  0.017479 -2.223403 -2.223403\n",
       "2018-01-01 00:20:00  0.625231  0.625231 -1.602058 -0.739563\n",
       "2018-01-01 00:25:00  1.543015  1.543015 -1.292857 -1.168093\n",
       "2018-01-01 00:30:00  0.523277  2.163236 -0.171546  2.163236\n",
       "2018-01-01 00:35:00  1.336528  1.336528 -0.369182  0.655264\n",
       "2018-01-01 00:40:00  0.640132  0.640132 -1.616956  0.279925\n",
       "2018-01-01 00:45:00 -0.098150  0.910179 -0.466419 -0.466419\n",
       "2018-01-01 00:50:00 -0.944446  2.259309 -0.944446  2.259309\n",
       "2018-01-01 00:55:00 -0.042257  0.481481 -0.955945  0.481481"
      ]
     },
     "execution_count": 28,
     "metadata": {},
     "output_type": "execute_result"
    }
   ],
   "source": [
    "ts.resample('5T').ohlc()"
   ]
  },
  {
   "cell_type": "markdown",
   "metadata": {},
   "source": [
    "업-샘플링의 경우에는 실제로 존재하지 않는 데이터를 만들어야 한다.  \n",
    "이 때는 앞에서 나온 데이터를 뒤에서 그대로 쓰는 forward filling 방식과  \n",
    "뒤에서 나올 데이터를 앞에서 미리 쓰는 backward filling 방식을 사용할 수 있다.  \n",
    "각각 ffill, bfill 메서드를 이용한다."
   ]
  },
  {
   "cell_type": "code",
   "execution_count": 29,
   "metadata": {},
   "outputs": [
    {
     "data": {
      "text/plain": [
       "2018-01-01 00:00:00   -1.225436\n",
       "2018-01-01 00:00:30   -1.225436\n",
       "2018-01-01 00:01:00    0.844363\n",
       "2018-01-01 00:01:30    0.844363\n",
       "2018-01-01 00:02:00   -1.000215\n",
       "2018-01-01 00:02:30   -1.000215\n",
       "2018-01-01 00:03:00   -1.544771\n",
       "2018-01-01 00:03:30   -1.544771\n",
       "2018-01-01 00:04:00    1.188030\n",
       "2018-01-01 00:04:30    1.188030\n",
       "2018-01-01 00:05:00    0.316943\n",
       "2018-01-01 00:05:30    0.316943\n",
       "2018-01-01 00:06:00    0.920859\n",
       "2018-01-01 00:06:30    0.920859\n",
       "2018-01-01 00:07:00    0.318728\n",
       "2018-01-01 00:07:30    0.318728\n",
       "2018-01-01 00:08:00    0.856831\n",
       "2018-01-01 00:08:30    0.856831\n",
       "2018-01-01 00:09:00   -0.651026\n",
       "2018-01-01 00:09:30   -0.651026\n",
       "Freq: 30S, dtype: float64"
      ]
     },
     "execution_count": 29,
     "metadata": {},
     "output_type": "execute_result"
    }
   ],
   "source": [
    "ts.resample('30s').ffill().head(20)"
   ]
  },
  {
   "cell_type": "code",
   "execution_count": 30,
   "metadata": {},
   "outputs": [
    {
     "data": {
      "text/plain": [
       "2018-01-01 00:00:00   -1.225436\n",
       "2018-01-01 00:00:30    0.844363\n",
       "2018-01-01 00:01:00    0.844363\n",
       "2018-01-01 00:01:30   -1.000215\n",
       "2018-01-01 00:02:00   -1.000215\n",
       "2018-01-01 00:02:30   -1.544771\n",
       "2018-01-01 00:03:00   -1.544771\n",
       "2018-01-01 00:03:30    1.188030\n",
       "2018-01-01 00:04:00    1.188030\n",
       "2018-01-01 00:04:30    0.316943\n",
       "2018-01-01 00:05:00    0.316943\n",
       "2018-01-01 00:05:30    0.920859\n",
       "2018-01-01 00:06:00    0.920859\n",
       "2018-01-01 00:06:30    0.318728\n",
       "2018-01-01 00:07:00    0.318728\n",
       "2018-01-01 00:07:30    0.856831\n",
       "2018-01-01 00:08:00    0.856831\n",
       "2018-01-01 00:08:30   -0.651026\n",
       "2018-01-01 00:09:00   -0.651026\n",
       "2018-01-01 00:09:30   -1.034243\n",
       "Freq: 30S, dtype: float64"
      ]
     },
     "execution_count": 30,
     "metadata": {},
     "output_type": "execute_result"
    }
   ],
   "source": [
    "ts.resample('30s').bfill().head(20)"
   ]
  }
 ],
 "metadata": {
  "kernelspec": {
   "display_name": "Python 3",
   "language": "python",
   "name": "python3"
  },
  "language_info": {
   "codemirror_mode": {
    "name": "ipython",
    "version": 3
   },
   "file_extension": ".py",
   "mimetype": "text/x-python",
   "name": "python",
   "nbconvert_exporter": "python",
   "pygments_lexer": "ipython3",
   "version": "3.7.3"
  }
 },
 "nbformat": 4,
 "nbformat_minor": 2
}
