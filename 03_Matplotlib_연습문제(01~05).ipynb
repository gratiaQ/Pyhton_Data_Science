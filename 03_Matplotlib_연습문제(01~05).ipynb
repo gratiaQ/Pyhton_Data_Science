{
 "cells": [
  {
   "cell_type": "markdown",
   "metadata": {},
   "source": [
    "### 연습 문제 1\n",
    "여러가지 함수를 사용하여 아래 조건에 맞는 그래프를 그린다.\n",
    "\n",
    "- xlabel, ylabel, title을 모두 갖추고 있어야 한다.\n",
    "- 하나의 Figure(일단, 그림이라고 이해한다. 아래에 자세한 설명이 있다.)에  \n",
    "3개 이상의 Plot을 그린다.\n",
    "- 각 Plot은 다른 선, 마크, 색 스타일을 가진다.\n",
    "- legend는 그래프와 겹치지 않는 곳에 위치 시키도록 한다."
   ]
  },
  {
   "cell_type": "code",
   "execution_count": null,
   "metadata": {},
   "outputs": [],
   "source": []
  },
  {
   "cell_type": "markdown",
   "metadata": {},
   "source": [
    "### 연습 문제 2\n",
    "여러가지 함수를 사용하여 위와 같이 subplot들로 구성된 그림을 그려보자.  \n",
    "모든 subplot에 대해 xlabel, ylabel, title이 있어야 한다."
   ]
  },
  {
   "cell_type": "code",
   "execution_count": null,
   "metadata": {},
   "outputs": [],
   "source": []
  },
  {
   "cell_type": "markdown",
   "metadata": {},
   "source": [
    "### 연습 문제 3\n",
    "Matplotlib 갤러리 웹사이트에서 관심있는 예제 코드를 하나 고른다.\n",
    "\n",
    "- http://matplotlib.org/gallery.html\n",
    "  \n",
    "예제 코드에 사용된 Matplotlib API 명령의 목록을 만들고\n",
    "Matplotlib 웹사이트에서 관련 링크를 찾아 내용을 정리한다.\n",
    "변형된 형태의 플롯을 만들어본다."
   ]
  },
  {
   "cell_type": "code",
   "execution_count": null,
   "metadata": {},
   "outputs": [],
   "source": []
  }
 ],
 "metadata": {
  "kernelspec": {
   "display_name": "Python 3",
   "language": "python",
   "name": "python3"
  },
  "language_info": {
   "codemirror_mode": {
    "name": "ipython",
    "version": 3
   },
   "file_extension": ".py",
   "mimetype": "text/x-python",
   "name": "python",
   "nbconvert_exporter": "python",
   "pygments_lexer": "ipython3",
   "version": "3.7.3"
  }
 },
 "nbformat": 4,
 "nbformat_minor": 2
}
